{
 "cells": [
  {
   "cell_type": "code",
   "execution_count": 1,
   "id": "1c9b3448",
   "metadata": {},
   "outputs": [],
   "source": [
    "import numpy as np"
   ]
  },
  {
   "cell_type": "code",
   "execution_count": 14,
   "id": "4b7e6417",
   "metadata": {},
   "outputs": [],
   "source": [
    "#initial parameters\n",
    "gamma= 0.75 #discount factor\n",
    "alpha= 0.9 #learning rate"
   ]
  },
  {
   "cell_type": "code",
   "execution_count": 15,
   "id": "f0b04324",
   "metadata": {},
   "outputs": [],
   "source": [
    "#define the states\n",
    "location_to_states={\n",
    "    'L1': 0,\n",
    "    'L2': 1,\n",
    "    'L3': 2,\n",
    "    'L4': 3,\n",
    "    'L5': 4,\n",
    "    'L6': 5,\n",
    "    'L7': 6,\n",
    "    'L8': 7,\n",
    "    'L9': 8\n",
    "}"
   ]
  },
  {
   "cell_type": "code",
   "execution_count": 16,
   "id": "39a19d99",
   "metadata": {},
   "outputs": [],
   "source": [
    "#define the actions\n",
    "actions= [0,1,2,3,4,5,6,7,8]"
   ]
  },
  {
   "cell_type": "code",
   "execution_count": 17,
   "id": "8b819afc",
   "metadata": {},
   "outputs": [],
   "source": [
    "#define the rewards\n",
    "rewards= np.array([[0,1,0,0,0,0,0,0,0 ],\n",
    "                  [1,0,1,0,0,0,0,0,0],\n",
    "                  [0,1,0,0,0,1,0,0,0],\n",
    "                  [0,0,0,0,0,0,1,0,0],\n",
    "                  [0,1,0,0,0,0,0,1,0],\n",
    "                  [0,0,1,0,0,0,0,0,0],\n",
    "                  [0,0,0,1,0,0,0,1,0],\n",
    "                   [0,0,0,0,1,0,1,0,1],\n",
    "                   [0,0,0,0,0,0,0,1,0]\n",
    "                  ])"
   ]
  },
  {
   "cell_type": "code",
   "execution_count": 18,
   "id": "449377be",
   "metadata": {},
   "outputs": [],
   "source": [
    "#maps indices to location\n",
    "state_to_location= dict((state, location) for location, state in location_to_states.items())"
   ]
  },
  {
   "cell_type": "code",
   "execution_count": 25,
   "id": "238d34bd",
   "metadata": {},
   "outputs": [],
   "source": [
    "def get_optimal_route(start_location, end_location):\n",
    "    #copy the reward matrix to new matrix\n",
    "    rewards_new= np.copy(rewards)\n",
    "    \n",
    "    #get the ending state corresponding to the ending location as given\n",
    "    ending_state= location_to_states[end_location]\n",
    "    \n",
    "    #with the above information automatically set the priority of the given ending state to the highest one\n",
    "    rewards_new[ending_state, ending_state]= 999\n",
    "    \n",
    "    #Q-learning algorithm\n",
    "    \n",
    "    #Initializing Q values\n",
    "    Q= np.array(np.zeros([9,9]))\n",
    "    \n",
    "    #Q learing process\n",
    "    for i in range (1000):\n",
    "        #pick up a state randomly\n",
    "        current_state= np.random.randint(0,9) #python excludes the upper bound\n",
    "        #for transversing to the neighbour locations in the maze\n",
    "        playable_actions= []\n",
    "        #iterate through the new reward matrix and and get the actions >0\n",
    "        for j in range (9):\n",
    "            if rewards_new[current_state, j] > 0:\n",
    "                playable_actions.append(j)\n",
    "        #pick an action randomly from playable actions leading us to the next state\n",
    "        next_state= np.random.choice(playable_actions)\n",
    "        #compute the temporal difference\n",
    "        #action here exactly refers to going to next state\n",
    "        TD= rewards_new[current_state, next_state] + gamma*Q[next_state, np.argmax(Q[next_state, ])]- Q[current_state, next_state]\n",
    "        #update the Q value using the bellman equation\n",
    "        Q[current_state, next_state]+= alpha*TD\n",
    "        \n",
    "    #initialize the optimal route with the starting location\n",
    "    route= [start_location]\n",
    "    \n",
    "    #we do not know about the next location yet, so we initialize with the value of starting location\n",
    "    next_location= start_location\n",
    "    \n",
    "    \n",
    "    #while loop used, no of iterations not known\n",
    "    while(next_location != end_location):\n",
    "        #fetch the starting state\n",
    "        starting_state= location_to_states[start_location]\n",
    "        #fetch the highest Q value pertaining to starting state\n",
    "        next_state= np.argmax(Q[starting_state,])\n",
    "        #we got the index of the next state, but we need the corresponding letter\n",
    "        next_location= state_to_location[next_state]\n",
    "        route.append(next_location)\n",
    "        #update the staring location for the next iteration\n",
    "        start_location= next_location\n",
    "        \n",
    "    return route\n",
    "            \n",
    "    \n",
    "    "
   ]
  },
  {
   "cell_type": "code",
   "execution_count": 26,
   "id": "1b94bac5",
   "metadata": {},
   "outputs": [
    {
     "name": "stdout",
     "output_type": "stream",
     "text": [
      "['L9', 'L8', 'L5', 'L2', 'L1']\n"
     ]
    }
   ],
   "source": [
    "print(get_optimal_route('L9', 'L1'))"
   ]
  },
  {
   "cell_type": "code",
   "execution_count": null,
   "id": "a0513bd2",
   "metadata": {},
   "outputs": [],
   "source": []
  }
 ],
 "metadata": {
  "kernelspec": {
   "display_name": "Python 3",
   "language": "python",
   "name": "python3"
  },
  "language_info": {
   "codemirror_mode": {
    "name": "ipython",
    "version": 3
   },
   "file_extension": ".py",
   "mimetype": "text/x-python",
   "name": "python",
   "nbconvert_exporter": "python",
   "pygments_lexer": "ipython3",
   "version": "3.8.3"
  }
 },
 "nbformat": 4,
 "nbformat_minor": 5
}
